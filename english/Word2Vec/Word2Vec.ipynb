{
 "cells": [
  {
   "cell_type": "code",
   "execution_count": null,
   "id": "d47e3ce1-d128-44ba-96d5-a7b4d7b830ad",
   "metadata": {},
   "outputs": [],
   "source": [
    "import numpy as np\n",
    "import gensim as k\n",
    "import pickle\n",
    "import tqdm\n",
    "import io\n",
    "\n",
    "from gensim.models import Word2Vec"
   ]
  },
  {
   "cell_type": "code",
   "execution_count": null,
   "id": "ff8691cb-2157-4a44-bf1c-b532c2e5a092",
   "metadata": {},
   "outputs": [],
   "source": [
    "import numpy as np\n",
    "import gensim as k\n",
    "import io\n",
    "\n",
    "def load_corpus(fname):\n",
    "    fin = io.open(fname, 'r', encoding='utf-8', newline='\\n', errors='ignore')\n",
    "    documents = []\n",
    "    for line in fin:\n",
    "        documents.append(line.split())\n",
    "    return documents"
   ]
  },
  {
   "cell_type": "code",
   "execution_count": null,
   "id": "c245fbdb-5239-44e6-847b-3c2bc285f4b5",
   "metadata": {},
   "outputs": [],
   "source": [
    "def save_dictionary(fname, dictionary, args):\n",
    "    length, dimension = args\n",
    "    fin = io.open(fname, 'w', encoding='utf-8')\n",
    "    fin.write('%d %d\\n' % (length, dimension))\n",
    "    for word in dictionary:\n",
    "        fin.write('%s %s\\n' % (word, ' '.join(map(str, dictionary[word]))))\n",
    "        \n",
    "def load_dictionary(fname):\n",
    "    fin = io.open(fname, 'r', encoding='utf-8', newline='\\n', errors='ignore')\n",
    "    length, dimension = map(int, fin.readline().split())\n",
    "    dictionary = {}\n",
    "    for line in fin:\n",
    "        tokens = line.rstrip().split(' ')\n",
    "        dictionary[tokens[0]] = map(float, tokens[1:])\n",
    "    return dictionary"
   ]
  },
  {
   "cell_type": "code",
   "execution_count": null,
   "id": "44908f96-6f67-42b3-bf13-03c15fc18d23",
   "metadata": {},
   "outputs": [],
   "source": [
    "documents = load_corpus('../english_corpus.txt')\n",
    "len(documents)"
   ]
  },
  {
   "cell_type": "code",
   "execution_count": null,
   "id": "9af002ee-47b6-4bde-a114-21480adcdecc",
   "metadata": {},
   "outputs": [],
   "source": [
    "dimension = 8\n",
    "model = Word2Vec(sentences=documents, vector_size=dimension, min_count=3, sg=0, workers=5)"
   ]
  },
  {
   "cell_type": "code",
   "execution_count": null,
   "id": "bb79fcf6-8269-46e9-b758-e84c769498b0",
   "metadata": {},
   "outputs": [],
   "source": [
    "dictionary_cb = {key : model.wv[key] for key in model.wv.key_to_index}"
   ]
  },
  {
   "cell_type": "code",
   "execution_count": null,
   "id": "03b05e33-131d-474f-b916-a893e4bab9d0",
   "metadata": {},
   "outputs": [],
   "source": [
    "for method in [0, 1]:\n",
    "    for R in range(1, 17):\n",
    "        model = Word2Vec(sentences=documents, vector_size=R, min_count=2, sg=method, workers=5)\n",
    "        if method == 1:\n",
    "            embedding = 'skipgram'\n",
    "        else:\n",
    "            embedding = 'cbow'\n",
    "        dictionary = {key : model.wv[key] for key in model.wv.key_to_index}\n",
    "        path = 'english_data/english_' + embedding +'_'+ str(R) + '_dict.npy'\n",
    "        print('Saving ...', path)\n",
    "        np.save(path, dictionary)"
   ]
  },
  {
   "cell_type": "code",
   "execution_count": null,
   "id": "1d520fa6-fa9b-4a3f-baa3-ab68c9fd9109",
   "metadata": {},
   "outputs": [],
   "source": []
  }
 ],
 "metadata": {
  "kernelspec": {
   "display_name": "kog-env",
   "language": "python",
   "name": "kog-env"
  },
  "language_info": {
   "codemirror_mode": {
    "name": "ipython",
    "version": 3
   },
   "file_extension": ".py",
   "mimetype": "text/x-python",
   "name": "python",
   "nbconvert_exporter": "python",
   "pygments_lexer": "ipython3",
   "version": "3.7.5"
  }
 },
 "nbformat": 4,
 "nbformat_minor": 5
}
