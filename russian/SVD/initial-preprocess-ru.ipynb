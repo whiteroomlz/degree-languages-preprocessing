{
 "cells": [
  {
   "cell_type": "code",
   "execution_count": null,
   "id": "63ff7007-1fef-43a2-b0b5-a56beeb31f36",
   "metadata": {},
   "outputs": [],
   "source": [
    "from natasha import (\n",
    "    Segmenter, MorphVocab,\n",
    "    NewsNERTagger,\n",
    "    NewsEmbedding,\n",
    "    NewsMorphTagger,    \n",
    "    Doc\n",
    ")\n",
    "import re\n",
    "import glob\n",
    "import tqdm"
   ]
  },
  {
   "cell_type": "code",
   "execution_count": null,
   "id": "94414c94-a934-47cf-b8d9-f62a3245736f",
   "metadata": {},
   "outputs": [],
   "source": [
    "def poem(text):\n",
    "    lines = text.split('\\n')\n",
    "    if len(lines):\n",
    "        not_poem_probability = sum([line[0].islower() for line in lines  if line]) / len(lines)\n",
    "        return not_poem_probability < 0.3\n",
    "    return False"
   ]
  },
  {
   "cell_type": "code",
   "execution_count": null,
   "id": "743e72eb-ddb2-4a54-865c-82ea372a32d1",
   "metadata": {},
   "outputs": [],
   "source": [
    "def prepare_russian_text(input_file, output_file):\n",
    "    segmenter = Segmenter()\n",
    "    emb = NewsEmbedding()\n",
    "    morph_tagger = NewsMorphTagger(emb)\n",
    "    ner_tagger = NewsNERTagger(emb)\n",
    "    morph_vocab = MorphVocab()\n",
    "\n",
    "    label_dict = {'NUM': 'ordinal1', 'PRON': 'pron1', 'PER': 'person1'}\n",
    "    next_label_num = 5\n",
    "\n",
    "    with open(input_file) as fin:\n",
    "        raw_text = ' '.join(fin.readlines()).replace('\\n', ' ')\n",
    "\n",
    "    raw_text = re.sub(r'\\d+', '0' , raw_text)\n",
    "\n",
    "    doc = Doc(raw_text)\n",
    "    doc.segment(segmenter)\n",
    "    doc.tag_ner(ner_tagger)\n",
    "    \n",
    "    for span in reversed(doc.ner.spans):\n",
    "        if span.type not in label_dict:\n",
    "            label_dict[span.type] = str(next_label_num)\n",
    "            next_label_num += 1\n",
    "        raw_text = \"\".join((raw_text[:span.start], label_dict[span.type], raw_text[span.stop:]))\n",
    "\n",
    "    doc = Doc(raw_text)\n",
    "    doc.segment(segmenter)\n",
    "    doc.tag_morph(morph_tagger)\n",
    "  \n",
    "    prepared_text = ''\n",
    "    prev_num = False\n",
    "    for token in doc.tokens:\n",
    "      \n",
    "        if token.pos == 'NUM' and not token.text.isdigit():\n",
    "            if not prev_num:\n",
    "                prepared_text += '0'\n",
    "                prepared_text += ' '\n",
    "                prev_num = True\n",
    "            continue\n",
    "\n",
    "        prev_num = False\n",
    "\n",
    "        if token.pos in label_dict:\n",
    "            prepared_text += label_dict[token.pos]\n",
    "            prepared_text += ' '\n",
    "            \n",
    "        elif token.pos != 'PUNCT':\n",
    "                try:\n",
    "                    token.lemmatize(morph_vocab)\n",
    "                    prepared_text += token.lemma.lower()\n",
    "                    prepared_text += ' '\n",
    "                except Exception as ex:\n",
    "                    prepared_text += token.text.lower()\n",
    "                    prepared_text += ' '\n",
    "                    \n",
    "    with open(output_file, 'w') as fout:\n",
    "        fout.write(prepared_text)"
   ]
  },
  {
   "cell_type": "code",
   "execution_count": null,
   "id": "f7769486-4b96-4342-9b58-b26e8e8e4bce",
   "metadata": {},
   "outputs": [],
   "source": [
    "def prepare_russian_texts_from_folder(input_folder, output_folder):\n",
    "    files = sorted(glob.glob(input_folder + '/*'))\n",
    "    for file in tqdm.tqdm(files):\n",
    "        output_file = output_folder + '/PREPROCESSED_' + file.split('/')[-1]\n",
    "        prepare_russian_text(file, output_file)"
   ]
  },
  {
   "cell_type": "code",
   "execution_count": null,
   "id": "157a8943-3ecb-423d-97e2-e50763d76c11",
   "metadata": {},
   "outputs": [],
   "source": [
    "prepare_russian_texts_from_folder('raw_russian_texts', 'preprocessed_russian_texts')"
   ]
  }
 ],
 "metadata": {
  "kernelspec": {
   "display_name": "Python 3 (ipykernel)",
   "language": "python",
   "name": "python3"
  },
  "language_info": {
   "codemirror_mode": {
    "name": "ipython",
    "version": 3
   },
   "file_extension": ".py",
   "mimetype": "text/x-python",
   "name": "python",
   "nbconvert_exporter": "python",
   "pygments_lexer": "ipython3",
   "version": "3.11.4"
  }
 },
 "nbformat": 4,
 "nbformat_minor": 5
}
